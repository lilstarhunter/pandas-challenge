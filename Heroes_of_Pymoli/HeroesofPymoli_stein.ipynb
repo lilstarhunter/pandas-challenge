{
 "cells": [
  {
   "cell_type": "markdown",
   "metadata": {},
   "source": [
    "# Heroes of PyMoli\n",
    "\n",
    "## Summary of Analysis\n",
    "    1. The typical customer/player is a male, 21-30 years old. Total revenue from this demographic was 896.33 USD\n",
    "    \n",
    "    2. This demographic was the only cohort to purchase the most expensive game at 4.99 USD\n",
    "    \n",
    "    3. The most profitable game was \"Final Critic\" (Item ID: 92) \n",
    "       Purchased 13 times and with a total revenue of 59.99 USD\n",
    "       \n",
    "    4. Female players spent more money on average per purchase\n",
    "    \n",
    "<img src=\"files/fantasy.png\" style=\"width: 9000px\">"
   ]
  },
  {
   "cell_type": "code",
   "execution_count": 1,
   "metadata": {
    "scrolled": true
   },
   "outputs": [],
   "source": [
    "#Import Dependencies\n",
    "import pandas as pd"
   ]
  },
  {
   "cell_type": "code",
   "execution_count": 2,
   "metadata": {
    "scrolled": true
   },
   "outputs": [],
   "source": [
    "#Import file \n",
    "file = \"Resources/purchase_data.csv\""
   ]
  },
  {
   "cell_type": "code",
   "execution_count": 3,
   "metadata": {
    "scrolled": true
   },
   "outputs": [],
   "source": [
    "data = pd.read_csv(file, encoding=\"ISO-8859-1\")"
   ]
  },
  {
   "cell_type": "markdown",
   "metadata": {},
   "source": [
    "# Game Analysis"
   ]
  },
  {
   "cell_type": "code",
   "execution_count": 4,
   "metadata": {
    "scrolled": true
   },
   "outputs": [
    {
     "data": {
      "text/html": [
       "<div>\n",
       "<style scoped>\n",
       "    .dataframe tbody tr th:only-of-type {\n",
       "        vertical-align: middle;\n",
       "    }\n",
       "\n",
       "    .dataframe tbody tr th {\n",
       "        vertical-align: top;\n",
       "    }\n",
       "\n",
       "    .dataframe thead th {\n",
       "        text-align: right;\n",
       "    }\n",
       "</style>\n",
       "<table border=\"1\" class=\"dataframe\">\n",
       "  <thead>\n",
       "    <tr style=\"text-align: right;\">\n",
       "      <th></th>\n",
       "      <th>Number of Games</th>\n",
       "      <th>Average Price</th>\n",
       "      <th>Highest Price</th>\n",
       "      <th>Lowest Price</th>\n",
       "    </tr>\n",
       "  </thead>\n",
       "  <tbody>\n",
       "    <tr>\n",
       "      <th>0</th>\n",
       "      <td>179</td>\n",
       "      <td>$3.04</td>\n",
       "      <td>$4.99</td>\n",
       "      <td>$1.00</td>\n",
       "    </tr>\n",
       "  </tbody>\n",
       "</table>\n",
       "</div>"
      ],
      "text/plain": [
       "   Number of Games Average Price Highest Price Lowest Price\n",
       "0              179         $3.04         $4.99        $1.00"
      ]
     },
     "execution_count": 4,
     "metadata": {},
     "output_type": "execute_result"
    }
   ],
   "source": [
    "#Total number of games\n",
    "games = len(data[\"Item ID\"].unique())\n",
    "\n",
    "#Create a new data frame for determining game statistics\n",
    "games_df = data.groupby([\"Item ID\", \"Item Name\", \"Price\"], as_index = False).count()\n",
    "\n",
    "#Summary statistics for games\n",
    "g_avg = games_df[\"Price\"].mean()\n",
    "g_max = games_df[\"Price\"].max()\n",
    "g_min = games_df[\"Price\"].min()\n",
    "\n",
    "#Create Summary Table\n",
    "game_sum_table = pd.DataFrame({\"Number of Games\": games,\n",
    "                               \"Average Price\": [g_avg],\n",
    "                                \"Highest Price\": [g_max],\n",
    "                                 \"Lowest Price\": [g_min]})\n",
    "\n",
    "#Formatting of Summary Table\n",
    "game_sum_table[\"Average Price\"] = game_sum_table[\"Average Price\"].map(\"${:.2f}\".format)\n",
    "game_sum_table[\"Highest Price\"] = game_sum_table[\"Highest Price\"].map(\"${:.2f}\".format)\n",
    "game_sum_table[\"Lowest Price\"] = game_sum_table[\"Lowest Price\"].map(\"${:.2f}\".format)\n",
    "\n",
    "game_sum_table"
   ]
  },
  {
   "cell_type": "markdown",
   "metadata": {},
   "source": [
    "# Player Analysis\n"
   ]
  },
  {
   "cell_type": "code",
   "execution_count": 5,
   "metadata": {
    "scrolled": true
   },
   "outputs": [
    {
     "name": "stdout",
     "output_type": "stream",
     "text": [
      "Total number of players: 576\n"
     ]
    }
   ],
   "source": [
    "players = len(data[\"SN\"].unique())\n",
    "print(\"Total number of players: \" + str(players))"
   ]
  },
  {
   "cell_type": "markdown",
   "metadata": {},
   "source": [
    "## Gender Demographics"
   ]
  },
  {
   "cell_type": "code",
   "execution_count": 6,
   "metadata": {
    "scrolled": false
   },
   "outputs": [
    {
     "data": {
      "text/html": [
       "<div>\n",
       "<style scoped>\n",
       "    .dataframe tbody tr th:only-of-type {\n",
       "        vertical-align: middle;\n",
       "    }\n",
       "\n",
       "    .dataframe tbody tr th {\n",
       "        vertical-align: top;\n",
       "    }\n",
       "\n",
       "    .dataframe thead th {\n",
       "        text-align: right;\n",
       "    }\n",
       "</style>\n",
       "<table border=\"1\" class=\"dataframe\">\n",
       "  <thead>\n",
       "    <tr style=\"text-align: right;\">\n",
       "      <th></th>\n",
       "      <th>Gender</th>\n",
       "      <th>Total</th>\n",
       "      <th>Percentage</th>\n",
       "    </tr>\n",
       "  </thead>\n",
       "  <tbody>\n",
       "    <tr>\n",
       "      <th>0</th>\n",
       "      <td>Male</td>\n",
       "      <td>484</td>\n",
       "      <td>84.03%</td>\n",
       "    </tr>\n",
       "    <tr>\n",
       "      <th>1</th>\n",
       "      <td>Female</td>\n",
       "      <td>81</td>\n",
       "      <td>14.06%</td>\n",
       "    </tr>\n",
       "    <tr>\n",
       "      <th>2</th>\n",
       "      <td>Other / Non-Disclosed</td>\n",
       "      <td>11</td>\n",
       "      <td>1.91%</td>\n",
       "    </tr>\n",
       "  </tbody>\n",
       "</table>\n",
       "</div>"
      ],
      "text/plain": [
       "                  Gender  Total Percentage\n",
       "0                   Male    484     84.03%\n",
       "1                 Female     81     14.06%\n",
       "2  Other / Non-Disclosed     11      1.91%"
      ]
     },
     "execution_count": 6,
     "metadata": {},
     "output_type": "execute_result"
    }
   ],
   "source": [
    "player_df = data.groupby([\"SN\", \"Gender\"], as_index = False).mean()\n",
    "\n",
    "#Create total number of players variable\n",
    "total = len(player_df[\"Gender\"])\n",
    "male = len(player_df.loc[player_df[\"Gender\"] == \"Male\"])\n",
    "female = len(player_df.loc[player_df[\"Gender\"] == \"Female\"])\n",
    "other = len(player_df.loc[player_df[\"Gender\"] == \"Other / Non-Disclosed\"])\n",
    "\n",
    "#Calculate Percentages\n",
    "male_per = male / total\n",
    "female_per = female / total\n",
    "other_per = other / total\n",
    "\n",
    "#Create DataFrame for Gender Statistics\n",
    "player_per_df = pd.DataFrame({\"Gender\": [\"Male\", \"Female\", \"Other / Non-Disclosed\"],\n",
    "                              \"Total\": [male, female, other],\n",
    "                              \"Percentage\": [male_per, female_per, other_per]})\n",
    "\n",
    "#Dataframe Formatting\n",
    "player_per_df[\"Percentage\"] = player_per_df[\"Percentage\"].map(\"{:,.2%}\".format)\n",
    "\n",
    "player_per_df"
   ]
  },
  {
   "cell_type": "markdown",
   "metadata": {},
   "source": [
    "## Purchasing Analysis (Gender)"
   ]
  },
  {
   "cell_type": "code",
   "execution_count": 7,
   "metadata": {},
   "outputs": [],
   "source": [
    "#Create sex specific data frames\n",
    "male_df = player_df.loc[player_df[\"Gender\"] == \"Male\"]\n",
    "female_df = player_df.loc[player_df[\"Gender\"] == \"Female\"]\n",
    "other_df = player_df.loc[player_df[\"Gender\"] == \"Other / Non-Disclosed\"]"
   ]
  },
  {
   "cell_type": "code",
   "execution_count": 8,
   "metadata": {
    "scrolled": true
   },
   "outputs": [],
   "source": [
    "#Create complete dfs specific to gender\n",
    "m_df = data.loc[data[\"Gender\"] == \"Male\"]\n",
    "f_df = data.loc[data[\"Gender\"] == \"Female\"]\n",
    "o_df = data.loc[data[\"Gender\"] == \"Other / Non-Disclosed\"]"
   ]
  },
  {
   "cell_type": "code",
   "execution_count": 9,
   "metadata": {
    "scrolled": true
   },
   "outputs": [],
   "source": [
    "#Create male variable statistics of interest\n",
    "m_total = m_df[\"Purchase ID\"].count()\n",
    "m_sum = m_df[\"Price\"].sum()\n",
    "m_avg_no = male_df[\"Price\"].mean()\n",
    "m_avg = m_df[\"Price\"].mean()"
   ]
  },
  {
   "cell_type": "code",
   "execution_count": 10,
   "metadata": {
    "scrolled": true
   },
   "outputs": [],
   "source": [
    "#Create female variable statistics of interest\n",
    "f_total = f_df[\"Purchase ID\"].count()\n",
    "f_sum = f_df[\"Price\"].sum()\n",
    "f_avg_no = female_df[\"Price\"].mean()\n",
    "f_avg = f_df[\"Price\"].mean()"
   ]
  },
  {
   "cell_type": "code",
   "execution_count": 11,
   "metadata": {
    "scrolled": true
   },
   "outputs": [],
   "source": [
    "#Create other variable statistics of interest\n",
    "o_total = o_df[\"Purchase ID\"].count()\n",
    "o_sum = o_df[\"Price\"].sum()\n",
    "o_avg_no = other_df[\"Price\"].mean()\n",
    "o_avg = o_df[\"Price\"].mean()"
   ]
  },
  {
   "cell_type": "code",
   "execution_count": 12,
   "metadata": {
    "scrolled": false
   },
   "outputs": [
    {
     "data": {
      "text/html": [
       "<div>\n",
       "<style scoped>\n",
       "    .dataframe tbody tr th:only-of-type {\n",
       "        vertical-align: middle;\n",
       "    }\n",
       "\n",
       "    .dataframe tbody tr th {\n",
       "        vertical-align: top;\n",
       "    }\n",
       "\n",
       "    .dataframe thead th {\n",
       "        text-align: right;\n",
       "    }\n",
       "</style>\n",
       "<table border=\"1\" class=\"dataframe\">\n",
       "  <thead>\n",
       "    <tr style=\"text-align: right;\">\n",
       "      <th></th>\n",
       "      <th>Gender</th>\n",
       "      <th>Total Purchases</th>\n",
       "      <th>Avg No. of Purchases</th>\n",
       "      <th>Total Spent</th>\n",
       "      <th>Average Spent</th>\n",
       "    </tr>\n",
       "  </thead>\n",
       "  <tbody>\n",
       "    <tr>\n",
       "      <th>0</th>\n",
       "      <td>Male</td>\n",
       "      <td>652</td>\n",
       "      <td>3.01</td>\n",
       "      <td>$1967.64</td>\n",
       "      <td>$3.02</td>\n",
       "    </tr>\n",
       "    <tr>\n",
       "      <th>1</th>\n",
       "      <td>Female</td>\n",
       "      <td>113</td>\n",
       "      <td>3.19</td>\n",
       "      <td>$361.94</td>\n",
       "      <td>$3.20</td>\n",
       "    </tr>\n",
       "    <tr>\n",
       "      <th>2</th>\n",
       "      <td>Other / Non-Disclosed</td>\n",
       "      <td>15</td>\n",
       "      <td>3.35</td>\n",
       "      <td>$50.19</td>\n",
       "      <td>$3.35</td>\n",
       "    </tr>\n",
       "  </tbody>\n",
       "</table>\n",
       "</div>"
      ],
      "text/plain": [
       "                  Gender  Total Purchases Avg No. of Purchases Total Spent  \\\n",
       "0                   Male              652                 3.01    $1967.64   \n",
       "1                 Female              113                 3.19     $361.94   \n",
       "2  Other / Non-Disclosed               15                 3.35      $50.19   \n",
       "\n",
       "  Average Spent  \n",
       "0         $3.02  \n",
       "1         $3.20  \n",
       "2         $3.35  "
      ]
     },
     "execution_count": 12,
     "metadata": {},
     "output_type": "execute_result"
    }
   ],
   "source": [
    "#Create Summary Table\n",
    "gender_sum_table = pd.DataFrame({\"Gender\": [\"Male\", \"Female\", \"Other / Non-Disclosed\"],\n",
    "                                \"Total Purchases\": [m_total, f_total, o_total],\n",
    "                                 \"Avg No. of Purchases\": [m_avg_no, f_avg_no, o_avg_no],\n",
    "                                \"Total Spent\": [m_sum, f_sum, o_sum],\n",
    "                               \"Average Spent\": [m_avg, f_avg, o_avg]})\n",
    "gender_sum_table[\"Total Spent\"] = gender_sum_table[\"Total Spent\"].map(\"${:.2f}\".format)\n",
    "gender_sum_table[\"Average Spent\"] = gender_sum_table[\"Average Spent\"].map(\"${:.2f}\".format)\n",
    "gender_sum_table[\"Avg No. of Purchases\"] = gender_sum_table[\"Avg No. of Purchases\"].map(\"{:.2f}\".format)\n",
    "gender_sum_table"
   ]
  },
  {
   "cell_type": "markdown",
   "metadata": {},
   "source": [
    "## Age Demographics"
   ]
  },
  {
   "cell_type": "code",
   "execution_count": 13,
   "metadata": {
    "scrolled": true
   },
   "outputs": [],
   "source": [
    "bins = [0,11, 21, 31, 41, 51]\n",
    "labels = [\"0 to 10\", \"11 to 20\", \"21 to 30\", \"31 to 40\", \"40 +\"]"
   ]
  },
  {
   "cell_type": "code",
   "execution_count": 14,
   "metadata": {
    "scrolled": false
   },
   "outputs": [],
   "source": [
    "#Place the data series into a new column inside the DataFrame\n",
    "data[\"Age Group\"] = pd.cut(data[\"Age\"], bins, labels=labels).astype('object')"
   ]
  },
  {
   "cell_type": "code",
   "execution_count": 15,
   "metadata": {},
   "outputs": [
    {
     "data": {
      "text/html": [
       "<div>\n",
       "<style scoped>\n",
       "    .dataframe tbody tr th:only-of-type {\n",
       "        vertical-align: middle;\n",
       "    }\n",
       "\n",
       "    .dataframe tbody tr th {\n",
       "        vertical-align: top;\n",
       "    }\n",
       "\n",
       "    .dataframe thead th {\n",
       "        text-align: right;\n",
       "    }\n",
       "</style>\n",
       "<table border=\"1\" class=\"dataframe\">\n",
       "  <thead>\n",
       "    <tr style=\"text-align: right;\">\n",
       "      <th></th>\n",
       "      <th>Age Group</th>\n",
       "      <th>Total</th>\n",
       "      <th>Percentage</th>\n",
       "    </tr>\n",
       "  </thead>\n",
       "  <tbody>\n",
       "    <tr>\n",
       "      <th>0</th>\n",
       "      <td>0 to 10</td>\n",
       "      <td>30</td>\n",
       "      <td>5.21%</td>\n",
       "    </tr>\n",
       "    <tr>\n",
       "      <th>1</th>\n",
       "      <td>11 to 20</td>\n",
       "      <td>228</td>\n",
       "      <td>39.58%</td>\n",
       "    </tr>\n",
       "    <tr>\n",
       "      <th>2</th>\n",
       "      <td>21 to 30</td>\n",
       "      <td>253</td>\n",
       "      <td>43.92%</td>\n",
       "    </tr>\n",
       "    <tr>\n",
       "      <th>3</th>\n",
       "      <td>31 to 40</td>\n",
       "      <td>60</td>\n",
       "      <td>10.42%</td>\n",
       "    </tr>\n",
       "    <tr>\n",
       "      <th>4</th>\n",
       "      <td>40 +</td>\n",
       "      <td>5</td>\n",
       "      <td>0.87%</td>\n",
       "    </tr>\n",
       "  </tbody>\n",
       "</table>\n",
       "</div>"
      ],
      "text/plain": [
       "  Age Group  Total Percentage\n",
       "0   0 to 10     30      5.21%\n",
       "1  11 to 20    228     39.58%\n",
       "2  21 to 30    253     43.92%\n",
       "3  31 to 40     60     10.42%\n",
       "4      40 +      5      0.87%"
      ]
     },
     "execution_count": 15,
     "metadata": {},
     "output_type": "execute_result"
    }
   ],
   "source": [
    "age_df = data.groupby([\"SN\", \"Age Group\"], as_index = False).count()\n",
    "\n",
    "#Create total number of players variable\n",
    "total = len(age_df[\"Age Group\"])\n",
    "u10 = len(age_df.loc[age_df[\"Age Group\"] == \"0 to 10\"])\n",
    "u20 = len(age_df.loc[age_df[\"Age Group\"] == \"11 to 20\"])\n",
    "u30 = len(age_df.loc[age_df[\"Age Group\"] == \"21 to 30\"])\n",
    "u40 = len(age_df.loc[age_df[\"Age Group\"] == \"31 to 40\"])\n",
    "o40 = len(age_df.loc[age_df[\"Age Group\"] == \"40 +\"])\n",
    "\n",
    "#Calculate percent\n",
    "u10_p = u10 / total\n",
    "u20_p = u20 / total\n",
    "u30_p = u30 / total\n",
    "u40_p = u40 / total\n",
    "o40_p = o40 / total\n",
    "\n",
    "#Create DataFrame for Gender Statistics\n",
    "age_per_df = pd.DataFrame({\"Age Group\": labels,\n",
    "                              \"Total\": [u10, u20, u30, u40, o40],\n",
    "                              \"Percentage\": [u10_p, u20_p, u30_p, u40_p, o40_p]})\n",
    "\n",
    "#Dataframe Formatting\n",
    "age_per_df[\"Percentage\"] = age_per_df[\"Percentage\"].map(\"{:,.2%}\".format)\n",
    "age_per_df\n"
   ]
  },
  {
   "cell_type": "markdown",
   "metadata": {},
   "source": [
    "## Puchasing Analysis (Age)"
   ]
  },
  {
   "cell_type": "code",
   "execution_count": 16,
   "metadata": {},
   "outputs": [
    {
     "data": {
      "text/html": [
       "<div>\n",
       "<style scoped>\n",
       "    .dataframe tbody tr th:only-of-type {\n",
       "        vertical-align: middle;\n",
       "    }\n",
       "\n",
       "    .dataframe tbody tr th {\n",
       "        vertical-align: top;\n",
       "    }\n",
       "\n",
       "    .dataframe thead th {\n",
       "        text-align: right;\n",
       "    }\n",
       "</style>\n",
       "<table border=\"1\" class=\"dataframe\">\n",
       "  <thead>\n",
       "    <tr style=\"text-align: right;\">\n",
       "      <th></th>\n",
       "      <th>Total Spent</th>\n",
       "      <th>Average Spent</th>\n",
       "      <th>Max Spent</th>\n",
       "      <th>Min Spent</th>\n",
       "    </tr>\n",
       "    <tr>\n",
       "      <th>Age Group</th>\n",
       "      <th></th>\n",
       "      <th></th>\n",
       "      <th></th>\n",
       "      <th></th>\n",
       "    </tr>\n",
       "  </thead>\n",
       "  <tbody>\n",
       "    <tr>\n",
       "      <th>0 to 10</th>\n",
       "      <td>$127.75</td>\n",
       "      <td>$3.28</td>\n",
       "      <td>$4.93</td>\n",
       "      <td>$1.29</td>\n",
       "    </tr>\n",
       "    <tr>\n",
       "      <th>11 to 20</th>\n",
       "      <td>$940.11</td>\n",
       "      <td>$3.04</td>\n",
       "      <td>$4.94</td>\n",
       "      <td>$1.00</td>\n",
       "    </tr>\n",
       "    <tr>\n",
       "      <th>21 to 30</th>\n",
       "      <td>$1046.37</td>\n",
       "      <td>$3.02</td>\n",
       "      <td>$4.99</td>\n",
       "      <td>$1.00</td>\n",
       "    </tr>\n",
       "    <tr>\n",
       "      <th>31 to 40</th>\n",
       "      <td>$250.55</td>\n",
       "      <td>$3.13</td>\n",
       "      <td>$4.93</td>\n",
       "      <td>$1.02</td>\n",
       "    </tr>\n",
       "    <tr>\n",
       "      <th>40 +</th>\n",
       "      <td>$14.99</td>\n",
       "      <td>$3.00</td>\n",
       "      <td>$4.00</td>\n",
       "      <td>$1.70</td>\n",
       "    </tr>\n",
       "  </tbody>\n",
       "</table>\n",
       "</div>"
      ],
      "text/plain": [
       "          Total Spent Average Spent Max Spent Min Spent\n",
       "Age Group                                              \n",
       "0 to 10       $127.75         $3.28     $4.93     $1.29\n",
       "11 to 20      $940.11         $3.04     $4.94     $1.00\n",
       "21 to 30     $1046.37         $3.02     $4.99     $1.00\n",
       "31 to 40      $250.55         $3.13     $4.93     $1.02\n",
       "40 +           $14.99         $3.00     $4.00     $1.70"
      ]
     },
     "execution_count": 16,
     "metadata": {},
     "output_type": "execute_result"
    }
   ],
   "source": [
    "#Group data into age groups\n",
    "age_df2 = data.groupby([\"Age Group\"])\n",
    "\n",
    "#Calculate summary statistics for age cohorts\n",
    "age_count = age_df2[\"Price\"].count()\n",
    "tot_spent = age_df2[\"Price\"].sum()\n",
    "avg_spent = age_df2[\"Price\"].mean()\n",
    "max_spent = age_df2[\"Price\"].max()\n",
    "min_spent = age_df2[\"Price\"].min()\n",
    "\n",
    "#Create DataFrame\n",
    "age_sum_df = pd.DataFrame({\"Total Spent\": tot_spent,\n",
    "                          \"Average Spent\": avg_spent,\n",
    "                          \"Max Spent\": max_spent,\n",
    "                          \"Min Spent\": min_spent})\n",
    "\n",
    "#Formatting\n",
    "age_sum_df[\"Total Spent\"] = age_sum_df[\"Total Spent\"].map(\"${:.2f}\".format)\n",
    "age_sum_df[\"Average Spent\"] = age_sum_df[\"Average Spent\"].map(\"${:.2f}\".format)\n",
    "age_sum_df[\"Max Spent\"] = age_sum_df[\"Max Spent\"].map(\"${:.2f}\".format)\n",
    "age_sum_df[\"Min Spent\"] = age_sum_df[\"Min Spent\"].map(\"${:.2f}\".format)\n",
    "age_sum_df"
   ]
  },
  {
   "cell_type": "markdown",
   "metadata": {},
   "source": [
    "# Top Spenders "
   ]
  },
  {
   "cell_type": "code",
   "execution_count": 17,
   "metadata": {},
   "outputs": [
    {
     "data": {
      "text/html": [
       "<div>\n",
       "<style scoped>\n",
       "    .dataframe tbody tr th:only-of-type {\n",
       "        vertical-align: middle;\n",
       "    }\n",
       "\n",
       "    .dataframe tbody tr th {\n",
       "        vertical-align: top;\n",
       "    }\n",
       "\n",
       "    .dataframe thead th {\n",
       "        text-align: right;\n",
       "    }\n",
       "</style>\n",
       "<table border=\"1\" class=\"dataframe\">\n",
       "  <thead>\n",
       "    <tr style=\"text-align: right;\">\n",
       "      <th></th>\n",
       "      <th>Age Group</th>\n",
       "      <th>Gender</th>\n",
       "      <th>Total Spent</th>\n",
       "    </tr>\n",
       "  </thead>\n",
       "  <tbody>\n",
       "    <tr>\n",
       "      <th>6</th>\n",
       "      <td>21 to 30</td>\n",
       "      <td>Male</td>\n",
       "      <td>$896.33</td>\n",
       "    </tr>\n",
       "    <tr>\n",
       "      <th>3</th>\n",
       "      <td>11 to 20</td>\n",
       "      <td>Male</td>\n",
       "      <td>$746.95</td>\n",
       "    </tr>\n",
       "    <tr>\n",
       "      <th>9</th>\n",
       "      <td>31 to 40</td>\n",
       "      <td>Male</td>\n",
       "      <td>$206.88</td>\n",
       "    </tr>\n",
       "    <tr>\n",
       "      <th>2</th>\n",
       "      <td>11 to 20</td>\n",
       "      <td>Female</td>\n",
       "      <td>$166.13</td>\n",
       "    </tr>\n",
       "    <tr>\n",
       "      <th>5</th>\n",
       "      <td>21 to 30</td>\n",
       "      <td>Female</td>\n",
       "      <td>$141.31</td>\n",
       "    </tr>\n",
       "    <tr>\n",
       "      <th>1</th>\n",
       "      <td>0 to 10</td>\n",
       "      <td>Male</td>\n",
       "      <td>$102.49</td>\n",
       "    </tr>\n",
       "    <tr>\n",
       "      <th>8</th>\n",
       "      <td>31 to 40</td>\n",
       "      <td>Female</td>\n",
       "      <td>$29.24</td>\n",
       "    </tr>\n",
       "    <tr>\n",
       "      <th>4</th>\n",
       "      <td>11 to 20</td>\n",
       "      <td>Other / Non-Disclosed</td>\n",
       "      <td>$27.03</td>\n",
       "    </tr>\n",
       "    <tr>\n",
       "      <th>0</th>\n",
       "      <td>0 to 10</td>\n",
       "      <td>Female</td>\n",
       "      <td>$25.26</td>\n",
       "    </tr>\n",
       "    <tr>\n",
       "      <th>11</th>\n",
       "      <td>40 +</td>\n",
       "      <td>Male</td>\n",
       "      <td>$14.99</td>\n",
       "    </tr>\n",
       "    <tr>\n",
       "      <th>10</th>\n",
       "      <td>31 to 40</td>\n",
       "      <td>Other / Non-Disclosed</td>\n",
       "      <td>$14.43</td>\n",
       "    </tr>\n",
       "    <tr>\n",
       "      <th>7</th>\n",
       "      <td>21 to 30</td>\n",
       "      <td>Other / Non-Disclosed</td>\n",
       "      <td>$8.73</td>\n",
       "    </tr>\n",
       "  </tbody>\n",
       "</table>\n",
       "</div>"
      ],
      "text/plain": [
       "   Age Group                 Gender Total Spent\n",
       "6   21 to 30                   Male     $896.33\n",
       "3   11 to 20                   Male     $746.95\n",
       "9   31 to 40                   Male     $206.88\n",
       "2   11 to 20                 Female     $166.13\n",
       "5   21 to 30                 Female     $141.31\n",
       "1    0 to 10                   Male     $102.49\n",
       "8   31 to 40                 Female      $29.24\n",
       "4   11 to 20  Other / Non-Disclosed      $27.03\n",
       "0    0 to 10                 Female      $25.26\n",
       "11      40 +                   Male      $14.99\n",
       "10  31 to 40  Other / Non-Disclosed      $14.43\n",
       "7   21 to 30  Other / Non-Disclosed       $8.73"
      ]
     },
     "execution_count": 17,
     "metadata": {},
     "output_type": "execute_result"
    }
   ],
   "source": [
    "#Create an age and gender data frame\n",
    "top_df = ((data.groupby([\"Age Group\", \"Gender\"], as_index=False)\n",
    "         .sum()\n",
    "         .sort_values(by=\"Price\",ascending=False))[[\"Age Group\", \"Gender\",\"Price\"]])\n",
    "\n",
    "#Formatting\n",
    "top_df.rename(columns = {\"Price\": \"Total Spent\"}, inplace=True)\n",
    "top_df[\"Total Spent\"] = top_df[\"Total Spent\"].map(\"${:.2f}\".format)\n",
    "\n",
    "#Print dataframe\n",
    "top_df"
   ]
  },
  {
   "cell_type": "code",
   "execution_count": 18,
   "metadata": {
    "scrolled": false
   },
   "outputs": [
    {
     "name": "stdout",
     "output_type": "stream",
     "text": [
      "Top Individual Spender: Lisosia93\n",
      "Demographics: Male, 25 years old.\n",
      "Total Spent: $18.96\n"
     ]
    }
   ],
   "source": [
    "#Find the most loyal customer\n",
    "top_player = ((data.groupby([\"SN\", \"Gender\", \"Age\"], as_index=False)\n",
    "              .sum()\n",
    "              .drop_duplicates()\n",
    "              .sort_values(by=\"Price\", ascending=False)))\n",
    "\n",
    "print(\"Top Individual Spender: \" + top_player.iloc[0,0])\n",
    "print(\"Demographics: \" + str(top_player.iloc[0,1]) + \", \" + str(top_player.iloc[0,2]) + \" years old.\")\n",
    "print(\"Total Spent: $\" + str(top_player.iloc[0,5]))\n"
   ]
  },
  {
   "cell_type": "markdown",
   "metadata": {},
   "source": [
    "# Most Popular Items"
   ]
  },
  {
   "cell_type": "code",
   "execution_count": 19,
   "metadata": {
    "scrolled": true
   },
   "outputs": [
    {
     "data": {
      "text/html": [
       "<div>\n",
       "<style scoped>\n",
       "    .dataframe tbody tr th:only-of-type {\n",
       "        vertical-align: middle;\n",
       "    }\n",
       "\n",
       "    .dataframe tbody tr th {\n",
       "        vertical-align: top;\n",
       "    }\n",
       "\n",
       "    .dataframe thead th {\n",
       "        text-align: right;\n",
       "    }\n",
       "</style>\n",
       "<table border=\"1\" class=\"dataframe\">\n",
       "  <thead>\n",
       "    <tr style=\"text-align: right;\">\n",
       "      <th></th>\n",
       "      <th>Item ID</th>\n",
       "      <th>Item Name</th>\n",
       "      <th>Game Price</th>\n",
       "      <th>Number of Purchases</th>\n",
       "      <th>Total Revenue</th>\n",
       "    </tr>\n",
       "  </thead>\n",
       "  <tbody>\n",
       "    <tr>\n",
       "      <th>0</th>\n",
       "      <td>92</td>\n",
       "      <td>Final Critic</td>\n",
       "      <td>$4.61</td>\n",
       "      <td>13</td>\n",
       "      <td>$59.99</td>\n",
       "    </tr>\n",
       "    <tr>\n",
       "      <th>1</th>\n",
       "      <td>178</td>\n",
       "      <td>Oathbreaker, Last Hope of the Breaking Storm</td>\n",
       "      <td>$4.23</td>\n",
       "      <td>12</td>\n",
       "      <td>$50.76</td>\n",
       "    </tr>\n",
       "    <tr>\n",
       "      <th>2</th>\n",
       "      <td>82</td>\n",
       "      <td>Nirvana</td>\n",
       "      <td>$4.90</td>\n",
       "      <td>9</td>\n",
       "      <td>$44.10</td>\n",
       "    </tr>\n",
       "    <tr>\n",
       "      <th>3</th>\n",
       "      <td>145</td>\n",
       "      <td>Fiery Glass Crusader</td>\n",
       "      <td>$4.58</td>\n",
       "      <td>9</td>\n",
       "      <td>$41.22</td>\n",
       "    </tr>\n",
       "    <tr>\n",
       "      <th>4</th>\n",
       "      <td>103</td>\n",
       "      <td>Singed Scalpel</td>\n",
       "      <td>$4.35</td>\n",
       "      <td>8</td>\n",
       "      <td>$34.80</td>\n",
       "    </tr>\n",
       "  </tbody>\n",
       "</table>\n",
       "</div>"
      ],
      "text/plain": [
       "   Item ID                                     Item Name Game Price  \\\n",
       "0       92                                  Final Critic      $4.61   \n",
       "1      178  Oathbreaker, Last Hope of the Breaking Storm      $4.23   \n",
       "2       82                                       Nirvana      $4.90   \n",
       "3      145                          Fiery Glass Crusader      $4.58   \n",
       "4      103                                Singed Scalpel      $4.35   \n",
       "\n",
       "   Number of Purchases Total Revenue  \n",
       "0                   13        $59.99  \n",
       "1                   12        $50.76  \n",
       "2                    9        $44.10  \n",
       "3                    9        $41.22  \n",
       "4                    8        $34.80  "
      ]
     },
     "execution_count": 19,
     "metadata": {},
     "output_type": "execute_result"
    }
   ],
   "source": [
    "#Purchase counts per game\n",
    "game_count = data.groupby([\"Item ID\", \"Item Name\"]).count().reset_index()\n",
    "game_sum = data.groupby([\"Item ID\", \"Item Name\"]).sum()\n",
    "\n",
    "#Merge data frames \n",
    "g_df = pd.merge(game_count, game_sum, on=\"Item Name\")[[\"Item ID\", \"Item Name\", \"Purchase ID_x\", \"Price_y\"]]\n",
    "g_df[\"Game Price\"] = g_df[\"Price_y\"]/g_df[\"Purchase ID_x\"]\n",
    "g_df = (g_df.sort_values(by=\"Price_y\",ascending=False)\n",
    "        .reset_index()[[\"Item ID\", \"Item Name\", \"Game Price\", \"Purchase ID_x\", \"Price_y\"]])\n",
    "\n",
    "\n",
    "#Formatting\n",
    "g_df.rename(columns = {\"Purchase ID_x\": \"Number of Purchases\", \"Price_y\": \"Total Revenue\"}, inplace=True)\n",
    "g_df[\"Total Revenue\"] = g_df[\"Total Revenue\"].map(\"${:.2f}\".format)\n",
    "g_df[\"Game Price\"] = g_df[\"Game Price\"].map(\"${:.2f}\".format)\n",
    "\n",
    "g_df.head()"
   ]
  },
  {
   "cell_type": "markdown",
   "metadata": {},
   "source": [
    "# Most Profitable Items"
   ]
  },
  {
   "cell_type": "code",
   "execution_count": 20,
   "metadata": {
    "scrolled": true
   },
   "outputs": [
    {
     "name": "stdout",
     "output_type": "stream",
     "text": [
      "Most Profitable Game: Final Critic (Item ID: 92)\n",
      "Number of Purchases: 13\n",
      "Total Revenue: $59.99\n"
     ]
    }
   ],
   "source": [
    "print(\"Most Profitable Game: \" + g_df.iloc[0,1] + \" (Item ID: \" + str(g_df.iloc[0,0]) + \")\")\n",
    "print(\"Number of Purchases: \" + str(g_df.iloc[0,3]))\n",
    "print(\"Total Revenue: \" + str(g_df.iloc[0,4]))"
   ]
  }
 ],
 "metadata": {
  "kernelspec": {
   "display_name": "PythonData",
   "language": "python",
   "name": "pythondata"
  },
  "language_info": {
   "codemirror_mode": {
    "name": "ipython",
    "version": 3
   },
   "file_extension": ".py",
   "mimetype": "text/x-python",
   "name": "python",
   "nbconvert_exporter": "python",
   "pygments_lexer": "ipython3",
   "version": "3.7.6"
  }
 },
 "nbformat": 4,
 "nbformat_minor": 4
}
