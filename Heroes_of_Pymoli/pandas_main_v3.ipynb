{
 "cells": [
  {
   "cell_type": "code",
   "execution_count": 1,
   "metadata": {
    "scrolled": true
   },
   "outputs": [],
   "source": [
    "#Import Dependencies\n",
    "import pandas as pd"
   ]
  },
  {
   "cell_type": "code",
   "execution_count": 2,
   "metadata": {
    "scrolled": true
   },
   "outputs": [],
   "source": [
    "#Import file \n",
    "file = \"Resources/purchase_data.csv\""
   ]
  },
  {
   "cell_type": "code",
   "execution_count": 3,
   "metadata": {
    "scrolled": true
   },
   "outputs": [],
   "source": [
    "data = pd.read_csv(file, encoding=\"ISO-8859-1\")"
   ]
  },
  {
   "cell_type": "markdown",
   "metadata": {},
   "source": [
    "# Game Analysis"
   ]
  },
  {
   "cell_type": "code",
   "execution_count": 4,
   "metadata": {
    "scrolled": true
   },
   "outputs": [
    {
     "data": {
      "text/html": [
       "<div>\n",
       "<style scoped>\n",
       "    .dataframe tbody tr th:only-of-type {\n",
       "        vertical-align: middle;\n",
       "    }\n",
       "\n",
       "    .dataframe tbody tr th {\n",
       "        vertical-align: top;\n",
       "    }\n",
       "\n",
       "    .dataframe thead th {\n",
       "        text-align: right;\n",
       "    }\n",
       "</style>\n",
       "<table border=\"1\" class=\"dataframe\">\n",
       "  <thead>\n",
       "    <tr style=\"text-align: right;\">\n",
       "      <th></th>\n",
       "      <th>Number of Games</th>\n",
       "      <th>Average Price</th>\n",
       "      <th>Highest Price</th>\n",
       "      <th>Lowest Price</th>\n",
       "    </tr>\n",
       "  </thead>\n",
       "  <tbody>\n",
       "    <tr>\n",
       "      <th>0</th>\n",
       "      <td>179</td>\n",
       "      <td>$3.04</td>\n",
       "      <td>$4.99</td>\n",
       "      <td>$1.00</td>\n",
       "    </tr>\n",
       "  </tbody>\n",
       "</table>\n",
       "</div>"
      ],
      "text/plain": [
       "   Number of Games Average Price Highest Price Lowest Price\n",
       "0              179         $3.04         $4.99        $1.00"
      ]
     },
     "execution_count": 4,
     "metadata": {},
     "output_type": "execute_result"
    }
   ],
   "source": [
    "#Total number of games\n",
    "games = len(data[\"Item ID\"].unique())\n",
    "\n",
    "#Create a new data frame for determining game statistics\n",
    "games_df = data.groupby([\"Item ID\", \"Item Name\", \"Price\"], as_index = False).count()\n",
    "\n",
    "#Summary statistics for games\n",
    "g_avg = games_df[\"Price\"].mean()\n",
    "g_max = games_df[\"Price\"].max()\n",
    "g_min = games_df[\"Price\"].min()\n",
    "\n",
    "#Create Summary Table\n",
    "game_sum_table = pd.DataFrame({\"Number of Games\": games,\n",
    "                               \"Average Price\": [g_avg],\n",
    "                                \"Highest Price\": [g_max],\n",
    "                                 \"Lowest Price\": [g_min]})\n",
    "\n",
    "#Formatting of Summary Table\n",
    "game_sum_table[\"Average Price\"] = game_sum_table[\"Average Price\"].map(\"${:.2f}\".format)\n",
    "game_sum_table[\"Highest Price\"] = game_sum_table[\"Highest Price\"].map(\"${:.2f}\".format)\n",
    "game_sum_table[\"Lowest Price\"] = game_sum_table[\"Lowest Price\"].map(\"${:.2f}\".format)\n",
    "\n",
    "game_sum_table"
   ]
  },
  {
   "cell_type": "markdown",
   "metadata": {},
   "source": [
    "# Player Analysis\n"
   ]
  },
  {
   "cell_type": "code",
   "execution_count": 5,
   "metadata": {
    "scrolled": true
   },
   "outputs": [
    {
     "name": "stdout",
     "output_type": "stream",
     "text": [
      "Total number of players: 576\n"
     ]
    }
   ],
   "source": [
    "players = len(data[\"SN\"].unique())\n",
    "print(\"Total number of players: \" + str(players))"
   ]
  },
  {
   "cell_type": "markdown",
   "metadata": {},
   "source": [
    "## Gender Demographics"
   ]
  },
  {
   "cell_type": "code",
   "execution_count": 6,
   "metadata": {
    "scrolled": false
   },
   "outputs": [
    {
     "data": {
      "text/html": [
       "<div>\n",
       "<style scoped>\n",
       "    .dataframe tbody tr th:only-of-type {\n",
       "        vertical-align: middle;\n",
       "    }\n",
       "\n",
       "    .dataframe tbody tr th {\n",
       "        vertical-align: top;\n",
       "    }\n",
       "\n",
       "    .dataframe thead th {\n",
       "        text-align: right;\n",
       "    }\n",
       "</style>\n",
       "<table border=\"1\" class=\"dataframe\">\n",
       "  <thead>\n",
       "    <tr style=\"text-align: right;\">\n",
       "      <th></th>\n",
       "      <th>Gender</th>\n",
       "      <th>Total</th>\n",
       "      <th>Percentage</th>\n",
       "    </tr>\n",
       "  </thead>\n",
       "  <tbody>\n",
       "    <tr>\n",
       "      <th>0</th>\n",
       "      <td>Male</td>\n",
       "      <td>484</td>\n",
       "      <td>84.03%</td>\n",
       "    </tr>\n",
       "    <tr>\n",
       "      <th>1</th>\n",
       "      <td>Female</td>\n",
       "      <td>81</td>\n",
       "      <td>14.06%</td>\n",
       "    </tr>\n",
       "    <tr>\n",
       "      <th>2</th>\n",
       "      <td>Other / Non-Disclosed</td>\n",
       "      <td>11</td>\n",
       "      <td>1.91%</td>\n",
       "    </tr>\n",
       "  </tbody>\n",
       "</table>\n",
       "</div>"
      ],
      "text/plain": [
       "                  Gender  Total Percentage\n",
       "0                   Male    484     84.03%\n",
       "1                 Female     81     14.06%\n",
       "2  Other / Non-Disclosed     11      1.91%"
      ]
     },
     "execution_count": 6,
     "metadata": {},
     "output_type": "execute_result"
    }
   ],
   "source": [
    "player_df = data.groupby([\"SN\", \"Gender\"], as_index = False).count()\n",
    "\n",
    "#Create total number of players variable\n",
    "total = len(player_df[\"Gender\"])\n",
    "male = len(player_df.loc[player_df[\"Gender\"] == \"Male\"])\n",
    "female = len(player_df.loc[player_df[\"Gender\"] == \"Female\"])\n",
    "other = len(player_df.loc[player_df[\"Gender\"] == \"Other / Non-Disclosed\"])\n",
    "\n",
    "#Calculate Percentages\n",
    "male_per = male / total\n",
    "female_per = female / total\n",
    "other_per = other / total\n",
    "\n",
    "#Create DataFrame for Gender Statistics\n",
    "player_per_df = pd.DataFrame({\"Gender\": [\"Male\", \"Female\", \"Other / Non-Disclosed\"],\n",
    "                              \"Total\": [male, female, other],\n",
    "                              \"Percentage\": [male_per, female_per, other_per]})\n",
    "\n",
    "#Dataframe Formatting\n",
    "player_per_df[\"Percentage\"] = player_per_df[\"Percentage\"].map(\"{:,.2%}\".format)\n",
    "\n",
    "player_per_df"
   ]
  },
  {
   "cell_type": "markdown",
   "metadata": {},
   "source": [
    "## Purchasing Analysis (Gender)"
   ]
  },
  {
   "cell_type": "code",
   "execution_count": 7,
   "metadata": {},
   "outputs": [],
   "source": [
    "#Create sex specific data frames\n",
    "male_df = player_df.loc[player_df[\"Gender\"] == \"Male\"]\n",
    "female_df = player_df.loc[player_df[\"Gender\"] == \"Female\"]\n",
    "other_df = player_df.loc[player_df[\"Gender\"] == \"Other / Non-Disclosed\"]"
   ]
  },
  {
   "cell_type": "code",
   "execution_count": 8,
   "metadata": {
    "scrolled": true
   },
   "outputs": [],
   "source": [
    "#Create total gender variable statistics of interest\n",
    "total = len(data[\"Purchase ID\"])\n",
    "avg_no = player_df[\"Purchase ID\"].mean()\n",
    "sum_spent = data[\"Price\"].sum()\n",
    "avg_spent= round(data[\"Price\"].mean(),2)"
   ]
  },
  {
   "cell_type": "code",
   "execution_count": 9,
   "metadata": {
    "scrolled": true
   },
   "outputs": [],
   "source": [
    "#Create complete dfs specific to gender\n",
    "m_df = data.loc[data[\"Gender\"] == \"Male\"]\n",
    "f_df = data.loc[data[\"Gender\"] == \"Female\"]\n",
    "o_df = data.loc[data[\"Gender\"] == \"Other / Non-Disclosed\"]"
   ]
  },
  {
   "cell_type": "code",
   "execution_count": 10,
   "metadata": {
    "scrolled": true
   },
   "outputs": [],
   "source": [
    "#Create male variable statistics of interest\n",
    "m_total = m_df[\"Purchase ID\"].count()\n",
    "m_sum = m_df[\"Price\"].sum()\n",
    "m_avg_no = male_df[\"Price\"].mean()\n",
    "m_avg = m_df[\"Price\"].mean()"
   ]
  },
  {
   "cell_type": "code",
   "execution_count": 11,
   "metadata": {
    "scrolled": true
   },
   "outputs": [],
   "source": [
    "#Create female variable statistics of interest\n",
    "f_total = f_df[\"Purchase ID\"].count()\n",
    "f_sum = f_df[\"Price\"].sum()\n",
    "f_avg_no = female_df[\"Price\"].mean()\n",
    "f_avg = f_df[\"Price\"].mean()"
   ]
  },
  {
   "cell_type": "code",
   "execution_count": 12,
   "metadata": {
    "scrolled": true
   },
   "outputs": [],
   "source": [
    "#Create other variable statistics of interest\n",
    "o_total = o_df[\"Purchase ID\"].count()\n",
    "o_sum = o_df[\"Price\"].sum()\n",
    "o_avg_no = other_df[\"Price\"].mean()\n",
    "o_avg = o_df[\"Price\"].mean()"
   ]
  },
  {
   "cell_type": "code",
   "execution_count": 13,
   "metadata": {
    "scrolled": false
   },
   "outputs": [
    {
     "data": {
      "text/html": [
       "<div>\n",
       "<style scoped>\n",
       "    .dataframe tbody tr th:only-of-type {\n",
       "        vertical-align: middle;\n",
       "    }\n",
       "\n",
       "    .dataframe tbody tr th {\n",
       "        vertical-align: top;\n",
       "    }\n",
       "\n",
       "    .dataframe thead th {\n",
       "        text-align: right;\n",
       "    }\n",
       "</style>\n",
       "<table border=\"1\" class=\"dataframe\">\n",
       "  <thead>\n",
       "    <tr style=\"text-align: right;\">\n",
       "      <th></th>\n",
       "      <th>Gender</th>\n",
       "      <th>Total Purchases</th>\n",
       "      <th>Avg No. of Purchases</th>\n",
       "      <th>Total Spent</th>\n",
       "      <th>Average Spent</th>\n",
       "    </tr>\n",
       "  </thead>\n",
       "  <tbody>\n",
       "    <tr>\n",
       "      <th>0</th>\n",
       "      <td>Male</td>\n",
       "      <td>652</td>\n",
       "      <td>1.35</td>\n",
       "      <td>$1967.64</td>\n",
       "      <td>$3.02</td>\n",
       "    </tr>\n",
       "    <tr>\n",
       "      <th>1</th>\n",
       "      <td>Female</td>\n",
       "      <td>113</td>\n",
       "      <td>1.40</td>\n",
       "      <td>$361.94</td>\n",
       "      <td>$3.20</td>\n",
       "    </tr>\n",
       "    <tr>\n",
       "      <th>2</th>\n",
       "      <td>Other / Non-Disclosed</td>\n",
       "      <td>15</td>\n",
       "      <td>1.36</td>\n",
       "      <td>$50.19</td>\n",
       "      <td>$3.35</td>\n",
       "    </tr>\n",
       "    <tr>\n",
       "      <th>3</th>\n",
       "      <td>Overall</td>\n",
       "      <td>780</td>\n",
       "      <td>1.35</td>\n",
       "      <td>$2379.77</td>\n",
       "      <td>$3.05</td>\n",
       "    </tr>\n",
       "  </tbody>\n",
       "</table>\n",
       "</div>"
      ],
      "text/plain": [
       "                  Gender  Total Purchases Avg No. of Purchases Total Spent  \\\n",
       "0                   Male              652                 1.35    $1967.64   \n",
       "1                 Female              113                 1.40     $361.94   \n",
       "2  Other / Non-Disclosed               15                 1.36      $50.19   \n",
       "3                Overall              780                 1.35    $2379.77   \n",
       "\n",
       "  Average Spent  \n",
       "0         $3.02  \n",
       "1         $3.20  \n",
       "2         $3.35  \n",
       "3         $3.05  "
      ]
     },
     "execution_count": 13,
     "metadata": {},
     "output_type": "execute_result"
    }
   ],
   "source": [
    "#Create Summary Table\n",
    "gender_sum_table = pd.DataFrame({\"Gender\": [\"Male\", \"Female\", \"Other / Non-Disclosed\", \"Overall\"],\n",
    "                                \"Total Purchases\": [m_total, f_total, o_total, total],\n",
    "                                 \"Avg No. of Purchases\": [m_avg_no, f_avg_no, o_avg_no, avg_no],\n",
    "                                \"Total Spent\": [m_sum, f_sum, o_sum, sum_spent],\n",
    "                               \"Average Spent\": [m_avg, f_avg, o_avg, avg_spent]})\n",
    "gender_sum_table[\"Total Spent\"] = gender_sum_table[\"Total Spent\"].map(\"${:.2f}\".format)\n",
    "gender_sum_table[\"Average Spent\"] = gender_sum_table[\"Average Spent\"].map(\"${:.2f}\".format)\n",
    "gender_sum_table[\"Avg No. of Purchases\"] = gender_sum_table[\"Avg No. of Purchases\"].map(\"{:.2f}\".format)\n",
    "gender_sum_table"
   ]
  },
  {
   "cell_type": "markdown",
   "metadata": {},
   "source": [
    "## Age Demographics"
   ]
  },
  {
   "cell_type": "code",
   "execution_count": 14,
   "metadata": {
    "scrolled": true
   },
   "outputs": [],
   "source": [
    "bins = [0,11, 21, 31, 41, 51]\n",
    "labels = [\"0 to 10\", \"11 to 20\", \"21 to 30\", \"31 to 40\", \"40 +\"]"
   ]
  },
  {
   "cell_type": "code",
   "execution_count": 15,
   "metadata": {
    "scrolled": false
   },
   "outputs": [
    {
     "data": {
      "text/html": [
       "<div>\n",
       "<style scoped>\n",
       "    .dataframe tbody tr th:only-of-type {\n",
       "        vertical-align: middle;\n",
       "    }\n",
       "\n",
       "    .dataframe tbody tr th {\n",
       "        vertical-align: top;\n",
       "    }\n",
       "\n",
       "    .dataframe thead th {\n",
       "        text-align: right;\n",
       "    }\n",
       "</style>\n",
       "<table border=\"1\" class=\"dataframe\">\n",
       "  <thead>\n",
       "    <tr style=\"text-align: right;\">\n",
       "      <th></th>\n",
       "      <th>Purchase ID</th>\n",
       "      <th>SN</th>\n",
       "      <th>Age</th>\n",
       "      <th>Gender</th>\n",
       "      <th>Item ID</th>\n",
       "      <th>Item Name</th>\n",
       "      <th>Price</th>\n",
       "      <th>Age Group</th>\n",
       "    </tr>\n",
       "  </thead>\n",
       "  <tbody>\n",
       "    <tr>\n",
       "      <th>0</th>\n",
       "      <td>0</td>\n",
       "      <td>Lisim78</td>\n",
       "      <td>20</td>\n",
       "      <td>Male</td>\n",
       "      <td>108</td>\n",
       "      <td>Extraction, Quickblade Of Trembling Hands</td>\n",
       "      <td>3.53</td>\n",
       "      <td>11 to 20</td>\n",
       "    </tr>\n",
       "    <tr>\n",
       "      <th>1</th>\n",
       "      <td>1</td>\n",
       "      <td>Lisovynya38</td>\n",
       "      <td>40</td>\n",
       "      <td>Male</td>\n",
       "      <td>143</td>\n",
       "      <td>Frenzied Scimitar</td>\n",
       "      <td>1.56</td>\n",
       "      <td>31 to 40</td>\n",
       "    </tr>\n",
       "    <tr>\n",
       "      <th>2</th>\n",
       "      <td>2</td>\n",
       "      <td>Ithergue48</td>\n",
       "      <td>24</td>\n",
       "      <td>Male</td>\n",
       "      <td>92</td>\n",
       "      <td>Final Critic</td>\n",
       "      <td>4.88</td>\n",
       "      <td>21 to 30</td>\n",
       "    </tr>\n",
       "    <tr>\n",
       "      <th>3</th>\n",
       "      <td>3</td>\n",
       "      <td>Chamassasya86</td>\n",
       "      <td>24</td>\n",
       "      <td>Male</td>\n",
       "      <td>100</td>\n",
       "      <td>Blindscythe</td>\n",
       "      <td>3.27</td>\n",
       "      <td>21 to 30</td>\n",
       "    </tr>\n",
       "    <tr>\n",
       "      <th>4</th>\n",
       "      <td>4</td>\n",
       "      <td>Iskosia90</td>\n",
       "      <td>23</td>\n",
       "      <td>Male</td>\n",
       "      <td>131</td>\n",
       "      <td>Fury</td>\n",
       "      <td>1.44</td>\n",
       "      <td>21 to 30</td>\n",
       "    </tr>\n",
       "  </tbody>\n",
       "</table>\n",
       "</div>"
      ],
      "text/plain": [
       "   Purchase ID             SN  Age Gender  Item ID  \\\n",
       "0            0        Lisim78   20   Male      108   \n",
       "1            1    Lisovynya38   40   Male      143   \n",
       "2            2     Ithergue48   24   Male       92   \n",
       "3            3  Chamassasya86   24   Male      100   \n",
       "4            4      Iskosia90   23   Male      131   \n",
       "\n",
       "                                   Item Name  Price Age Group  \n",
       "0  Extraction, Quickblade Of Trembling Hands   3.53  11 to 20  \n",
       "1                          Frenzied Scimitar   1.56  31 to 40  \n",
       "2                               Final Critic   4.88  21 to 30  \n",
       "3                                Blindscythe   3.27  21 to 30  \n",
       "4                                       Fury   1.44  21 to 30  "
      ]
     },
     "execution_count": 15,
     "metadata": {},
     "output_type": "execute_result"
    }
   ],
   "source": [
    "#Place the data series into a new column inside the DataFrame\n",
    "data[\"Age Group\"] = pd.cut(data[\"Age\"], bins, labels=labels)\n",
    "data.head()"
   ]
  },
  {
   "cell_type": "code",
   "execution_count": 16,
   "metadata": {},
   "outputs": [],
   "source": [
    "#Convert Age group to an object data type\n",
    "data[\"Age Group\"] = data[\"Age Group\"].astype('object')"
   ]
  },
  {
   "cell_type": "code",
   "execution_count": 17,
   "metadata": {},
   "outputs": [
    {
     "data": {
      "text/html": [
       "<div>\n",
       "<style scoped>\n",
       "    .dataframe tbody tr th:only-of-type {\n",
       "        vertical-align: middle;\n",
       "    }\n",
       "\n",
       "    .dataframe tbody tr th {\n",
       "        vertical-align: top;\n",
       "    }\n",
       "\n",
       "    .dataframe thead th {\n",
       "        text-align: right;\n",
       "    }\n",
       "</style>\n",
       "<table border=\"1\" class=\"dataframe\">\n",
       "  <thead>\n",
       "    <tr style=\"text-align: right;\">\n",
       "      <th></th>\n",
       "      <th>Age Group</th>\n",
       "      <th>Total</th>\n",
       "      <th>Percentage</th>\n",
       "    </tr>\n",
       "  </thead>\n",
       "  <tbody>\n",
       "    <tr>\n",
       "      <th>0</th>\n",
       "      <td>0 to 10</td>\n",
       "      <td>30</td>\n",
       "      <td>5.21%</td>\n",
       "    </tr>\n",
       "    <tr>\n",
       "      <th>1</th>\n",
       "      <td>11 to 20</td>\n",
       "      <td>228</td>\n",
       "      <td>39.58%</td>\n",
       "    </tr>\n",
       "    <tr>\n",
       "      <th>2</th>\n",
       "      <td>21 to 30</td>\n",
       "      <td>253</td>\n",
       "      <td>43.92%</td>\n",
       "    </tr>\n",
       "    <tr>\n",
       "      <th>3</th>\n",
       "      <td>31 to 40</td>\n",
       "      <td>60</td>\n",
       "      <td>10.42%</td>\n",
       "    </tr>\n",
       "    <tr>\n",
       "      <th>4</th>\n",
       "      <td>40 +</td>\n",
       "      <td>5</td>\n",
       "      <td>0.87%</td>\n",
       "    </tr>\n",
       "  </tbody>\n",
       "</table>\n",
       "</div>"
      ],
      "text/plain": [
       "  Age Group  Total Percentage\n",
       "0   0 to 10     30      5.21%\n",
       "1  11 to 20    228     39.58%\n",
       "2  21 to 30    253     43.92%\n",
       "3  31 to 40     60     10.42%\n",
       "4      40 +      5      0.87%"
      ]
     },
     "execution_count": 17,
     "metadata": {},
     "output_type": "execute_result"
    }
   ],
   "source": [
    "age_df = data.groupby([\"SN\", \"Age Group\"], as_index = False).count()\n",
    "\n",
    "#Create total number of players variable\n",
    "total = len(age_df[\"Age Group\"])\n",
    "u10 = len(age_df.loc[age_df[\"Age Group\"] == \"0 to 10\"])\n",
    "u20 = len(age_df.loc[age_df[\"Age Group\"] == \"11 to 20\"])\n",
    "u30 = len(age_df.loc[age_df[\"Age Group\"] == \"21 to 30\"])\n",
    "u40 = len(age_df.loc[age_df[\"Age Group\"] == \"31 to 40\"])\n",
    "o40 = len(age_df.loc[age_df[\"Age Group\"] == \"40 +\"])\n",
    "\n",
    "#Calculate percent\n",
    "u10_p = u10 / total\n",
    "u20_p = u20 / total\n",
    "u30_p = u30 / total\n",
    "u40_p = u40 / total\n",
    "o40_p = o40 / total\n",
    "\n",
    "#Create DataFrame for Gender Statistics\n",
    "age_per_df = pd.DataFrame({\"Age Group\": labels,\n",
    "                              \"Total\": [u10, u20, u30, u40, o40],\n",
    "                              \"Percentage\": [u10_p, u20_p, u30_p, u40_p, o40_p]})\n",
    "\n",
    "#Dataframe Formatting\n",
    "age_per_df[\"Percentage\"] = age_per_df[\"Percentage\"].map(\"{:,.2%}\".format)\n",
    "age_per_df\n"
   ]
  },
  {
   "cell_type": "markdown",
   "metadata": {},
   "source": [
    "## Puchasing Analysis (Age)"
   ]
  },
  {
   "cell_type": "code",
   "execution_count": 18,
   "metadata": {},
   "outputs": [
    {
     "data": {
      "text/html": [
       "<div>\n",
       "<style scoped>\n",
       "    .dataframe tbody tr th:only-of-type {\n",
       "        vertical-align: middle;\n",
       "    }\n",
       "\n",
       "    .dataframe tbody tr th {\n",
       "        vertical-align: top;\n",
       "    }\n",
       "\n",
       "    .dataframe thead th {\n",
       "        text-align: right;\n",
       "    }\n",
       "</style>\n",
       "<table border=\"1\" class=\"dataframe\">\n",
       "  <thead>\n",
       "    <tr style=\"text-align: right;\">\n",
       "      <th></th>\n",
       "      <th>Number of Players</th>\n",
       "      <th>Amount Spent</th>\n",
       "      <th>Average Spent</th>\n",
       "      <th>Max Spent</th>\n",
       "      <th>Min Spent</th>\n",
       "    </tr>\n",
       "    <tr>\n",
       "      <th>Age Group</th>\n",
       "      <th></th>\n",
       "      <th></th>\n",
       "      <th></th>\n",
       "      <th></th>\n",
       "      <th></th>\n",
       "    </tr>\n",
       "  </thead>\n",
       "  <tbody>\n",
       "    <tr>\n",
       "      <th>0 to 10</th>\n",
       "      <td>39</td>\n",
       "      <td>$127.75</td>\n",
       "      <td>$3.28</td>\n",
       "      <td>$4.93</td>\n",
       "      <td>$1.29</td>\n",
       "    </tr>\n",
       "    <tr>\n",
       "      <th>11 to 20</th>\n",
       "      <td>309</td>\n",
       "      <td>$940.11</td>\n",
       "      <td>$3.04</td>\n",
       "      <td>$4.94</td>\n",
       "      <td>$1.00</td>\n",
       "    </tr>\n",
       "    <tr>\n",
       "      <th>21 to 30</th>\n",
       "      <td>347</td>\n",
       "      <td>$1046.37</td>\n",
       "      <td>$3.02</td>\n",
       "      <td>$4.99</td>\n",
       "      <td>$1.00</td>\n",
       "    </tr>\n",
       "    <tr>\n",
       "      <th>31 to 40</th>\n",
       "      <td>80</td>\n",
       "      <td>$250.55</td>\n",
       "      <td>$3.13</td>\n",
       "      <td>$4.93</td>\n",
       "      <td>$1.02</td>\n",
       "    </tr>\n",
       "    <tr>\n",
       "      <th>40 +</th>\n",
       "      <td>5</td>\n",
       "      <td>$14.99</td>\n",
       "      <td>$3.00</td>\n",
       "      <td>$4.00</td>\n",
       "      <td>$1.70</td>\n",
       "    </tr>\n",
       "  </tbody>\n",
       "</table>\n",
       "</div>"
      ],
      "text/plain": [
       "           Number of Players Amount Spent Average Spent Max Spent Min Spent\n",
       "Age Group                                                                  \n",
       "0 to 10                   39      $127.75         $3.28     $4.93     $1.29\n",
       "11 to 20                 309      $940.11         $3.04     $4.94     $1.00\n",
       "21 to 30                 347     $1046.37         $3.02     $4.99     $1.00\n",
       "31 to 40                  80      $250.55         $3.13     $4.93     $1.02\n",
       "40 +                       5       $14.99         $3.00     $4.00     $1.70"
      ]
     },
     "execution_count": 18,
     "metadata": {},
     "output_type": "execute_result"
    }
   ],
   "source": [
    "#Group data into age groups\n",
    "age_df2 = data.groupby([\"Age Group\"])\n",
    "users_per_age = age_df[\"SN\"].count()\n",
    "\n",
    "#Calculate summary statistics for age cohorts\n",
    "age_count = age_df2[\"Price\"].count()\n",
    "tot_spent = age_df2[\"Price\"].sum()\n",
    "avg_spent = age_df2[\"Price\"].mean()\n",
    "max_spent = age_df2[\"Price\"].max()\n",
    "min_spent = age_df2[\"Price\"].min()\n",
    "\n",
    "#Create DataFrame\n",
    "age_sum_df = pd.DataFrame({\"Number of Players\": age_count,\n",
    "                          \"Amount Spent\": tot_spent,\n",
    "                          \"Average Spent\": avg_spent,\n",
    "                          \"Max Spent\": max_spent,\n",
    "                          \"Min Spent\": min_spent})\n",
    "\n",
    "#Formatting\n",
    "age_sum_df[\"Amount Spent\"] = age_sum_df[\"Amount Spent\"].map(\"${:.2f}\".format)\n",
    "age_sum_df[\"Average Spent\"] = age_sum_df[\"Average Spent\"].map(\"${:.2f}\".format)\n",
    "age_sum_df[\"Max Spent\"] = age_sum_df[\"Max Spent\"].map(\"${:.2f}\".format)\n",
    "age_sum_df[\"Min Spent\"] = age_sum_df[\"Min Spent\"].map(\"${:.2f}\".format)\n",
    "age_sum_df"
   ]
  },
  {
   "cell_type": "markdown",
   "metadata": {},
   "source": [
    "# Top Spenders "
   ]
  },
  {
   "cell_type": "code",
   "execution_count": 27,
   "metadata": {
    "scrolled": false
   },
   "outputs": [
    {
     "ename": "KeyError",
     "evalue": "'Passing list-likes to .loc or [] with any missing labels is no longer supported, see https://pandas.pydata.org/pandas-docs/stable/user_guide/indexing.html#deprecate-loc-reindex-listlike'",
     "output_type": "error",
     "traceback": [
      "\u001b[0;31m---------------------------------------------------------------------------\u001b[0m",
      "\u001b[0;31mKeyError\u001b[0m                                  Traceback (most recent call last)",
      "\u001b[0;32m<ipython-input-27-a14833dbe305>\u001b[0m in \u001b[0;36m<module>\u001b[0;34m\u001b[0m\n\u001b[1;32m      4\u001b[0m \u001b[0;34m\u001b[0m\u001b[0m\n\u001b[1;32m      5\u001b[0m \u001b[0;31m#Create a demographic data frame and merge\u001b[0m\u001b[0;34m\u001b[0m\u001b[0;34m\u001b[0m\u001b[0;34m\u001b[0m\u001b[0m\n\u001b[0;32m----> 6\u001b[0;31m \u001b[0mdemo_df\u001b[0m \u001b[0;34m=\u001b[0m \u001b[0mtop_df\u001b[0m\u001b[0;34m.\u001b[0m\u001b[0mloc\u001b[0m\u001b[0;34m[\u001b[0m\u001b[0;34m:\u001b[0m\u001b[0;34m,\u001b[0m \u001b[0;34m[\u001b[0m\u001b[0;34m'SN'\u001b[0m\u001b[0;34m,\u001b[0m \u001b[0;34m\"Gender\"\u001b[0m\u001b[0;34m,\u001b[0m \u001b[0;34m\"Age Group\"\u001b[0m\u001b[0;34m]\u001b[0m\u001b[0;34m]\u001b[0m\u001b[0;34m\u001b[0m\u001b[0;34m\u001b[0m\u001b[0m\n\u001b[0m\u001b[1;32m      7\u001b[0m \u001b[0mdemo_df\u001b[0m\u001b[0;34m.\u001b[0m\u001b[0mhead\u001b[0m\u001b[0;34m(\u001b[0m\u001b[0;34m)\u001b[0m\u001b[0;34m\u001b[0m\u001b[0;34m\u001b[0m\u001b[0m\n\u001b[1;32m      8\u001b[0m \u001b[0;31m# top_df = top_df.merge(demo_df, on=\"SN\")\u001b[0m\u001b[0;34m\u001b[0m\u001b[0;34m\u001b[0m\u001b[0;34m\u001b[0m\u001b[0m\n",
      "\u001b[0;32m~/opt/anaconda3/lib/python3.7/site-packages/pandas/core/indexing.py\u001b[0m in \u001b[0;36m__getitem__\u001b[0;34m(self, key)\u001b[0m\n\u001b[1;32m   1759\u001b[0m                 \u001b[0;32mexcept\u001b[0m \u001b[0;34m(\u001b[0m\u001b[0mKeyError\u001b[0m\u001b[0;34m,\u001b[0m \u001b[0mIndexError\u001b[0m\u001b[0;34m,\u001b[0m \u001b[0mAttributeError\u001b[0m\u001b[0;34m)\u001b[0m\u001b[0;34m:\u001b[0m\u001b[0;34m\u001b[0m\u001b[0;34m\u001b[0m\u001b[0m\n\u001b[1;32m   1760\u001b[0m                     \u001b[0;32mpass\u001b[0m\u001b[0;34m\u001b[0m\u001b[0;34m\u001b[0m\u001b[0m\n\u001b[0;32m-> 1761\u001b[0;31m             \u001b[0;32mreturn\u001b[0m \u001b[0mself\u001b[0m\u001b[0;34m.\u001b[0m\u001b[0m_getitem_tuple\u001b[0m\u001b[0;34m(\u001b[0m\u001b[0mkey\u001b[0m\u001b[0;34m)\u001b[0m\u001b[0;34m\u001b[0m\u001b[0;34m\u001b[0m\u001b[0m\n\u001b[0m\u001b[1;32m   1762\u001b[0m         \u001b[0;32melse\u001b[0m\u001b[0;34m:\u001b[0m\u001b[0;34m\u001b[0m\u001b[0;34m\u001b[0m\u001b[0m\n\u001b[1;32m   1763\u001b[0m             \u001b[0;31m# we by definition only have the 0th axis\u001b[0m\u001b[0;34m\u001b[0m\u001b[0;34m\u001b[0m\u001b[0;34m\u001b[0m\u001b[0m\n",
      "\u001b[0;32m~/opt/anaconda3/lib/python3.7/site-packages/pandas/core/indexing.py\u001b[0m in \u001b[0;36m_getitem_tuple\u001b[0;34m(self, tup)\u001b[0m\n\u001b[1;32m   1286\u001b[0m                 \u001b[0;32mcontinue\u001b[0m\u001b[0;34m\u001b[0m\u001b[0;34m\u001b[0m\u001b[0m\n\u001b[1;32m   1287\u001b[0m \u001b[0;34m\u001b[0m\u001b[0m\n\u001b[0;32m-> 1288\u001b[0;31m             \u001b[0mretval\u001b[0m \u001b[0;34m=\u001b[0m \u001b[0mgetattr\u001b[0m\u001b[0;34m(\u001b[0m\u001b[0mretval\u001b[0m\u001b[0;34m,\u001b[0m \u001b[0mself\u001b[0m\u001b[0;34m.\u001b[0m\u001b[0mname\u001b[0m\u001b[0;34m)\u001b[0m\u001b[0;34m.\u001b[0m\u001b[0m_getitem_axis\u001b[0m\u001b[0;34m(\u001b[0m\u001b[0mkey\u001b[0m\u001b[0;34m,\u001b[0m \u001b[0maxis\u001b[0m\u001b[0;34m=\u001b[0m\u001b[0mi\u001b[0m\u001b[0;34m)\u001b[0m\u001b[0;34m\u001b[0m\u001b[0;34m\u001b[0m\u001b[0m\n\u001b[0m\u001b[1;32m   1289\u001b[0m \u001b[0;34m\u001b[0m\u001b[0m\n\u001b[1;32m   1290\u001b[0m         \u001b[0;32mreturn\u001b[0m \u001b[0mretval\u001b[0m\u001b[0;34m\u001b[0m\u001b[0;34m\u001b[0m\u001b[0m\n",
      "\u001b[0;32m~/opt/anaconda3/lib/python3.7/site-packages/pandas/core/indexing.py\u001b[0m in \u001b[0;36m_getitem_axis\u001b[0;34m(self, key, axis)\u001b[0m\n\u001b[1;32m   1951\u001b[0m                     \u001b[0;32mraise\u001b[0m \u001b[0mValueError\u001b[0m\u001b[0;34m(\u001b[0m\u001b[0;34m\"Cannot index with multidimensional key\"\u001b[0m\u001b[0;34m)\u001b[0m\u001b[0;34m\u001b[0m\u001b[0;34m\u001b[0m\u001b[0m\n\u001b[1;32m   1952\u001b[0m \u001b[0;34m\u001b[0m\u001b[0m\n\u001b[0;32m-> 1953\u001b[0;31m                 \u001b[0;32mreturn\u001b[0m \u001b[0mself\u001b[0m\u001b[0;34m.\u001b[0m\u001b[0m_getitem_iterable\u001b[0m\u001b[0;34m(\u001b[0m\u001b[0mkey\u001b[0m\u001b[0;34m,\u001b[0m \u001b[0maxis\u001b[0m\u001b[0;34m=\u001b[0m\u001b[0maxis\u001b[0m\u001b[0;34m)\u001b[0m\u001b[0;34m\u001b[0m\u001b[0;34m\u001b[0m\u001b[0m\n\u001b[0m\u001b[1;32m   1954\u001b[0m \u001b[0;34m\u001b[0m\u001b[0m\n\u001b[1;32m   1955\u001b[0m             \u001b[0;31m# nested tuple slicing\u001b[0m\u001b[0;34m\u001b[0m\u001b[0;34m\u001b[0m\u001b[0;34m\u001b[0m\u001b[0m\n",
      "\u001b[0;32m~/opt/anaconda3/lib/python3.7/site-packages/pandas/core/indexing.py\u001b[0m in \u001b[0;36m_getitem_iterable\u001b[0;34m(self, key, axis)\u001b[0m\n\u001b[1;32m   1592\u001b[0m         \u001b[0;32melse\u001b[0m\u001b[0;34m:\u001b[0m\u001b[0;34m\u001b[0m\u001b[0;34m\u001b[0m\u001b[0m\n\u001b[1;32m   1593\u001b[0m             \u001b[0;31m# A collection of keys\u001b[0m\u001b[0;34m\u001b[0m\u001b[0;34m\u001b[0m\u001b[0;34m\u001b[0m\u001b[0m\n\u001b[0;32m-> 1594\u001b[0;31m             \u001b[0mkeyarr\u001b[0m\u001b[0;34m,\u001b[0m \u001b[0mindexer\u001b[0m \u001b[0;34m=\u001b[0m \u001b[0mself\u001b[0m\u001b[0;34m.\u001b[0m\u001b[0m_get_listlike_indexer\u001b[0m\u001b[0;34m(\u001b[0m\u001b[0mkey\u001b[0m\u001b[0;34m,\u001b[0m \u001b[0maxis\u001b[0m\u001b[0;34m,\u001b[0m \u001b[0mraise_missing\u001b[0m\u001b[0;34m=\u001b[0m\u001b[0;32mFalse\u001b[0m\u001b[0;34m)\u001b[0m\u001b[0;34m\u001b[0m\u001b[0;34m\u001b[0m\u001b[0m\n\u001b[0m\u001b[1;32m   1595\u001b[0m             return self.obj._reindex_with_indexers(\n\u001b[1;32m   1596\u001b[0m                 \u001b[0;34m{\u001b[0m\u001b[0maxis\u001b[0m\u001b[0;34m:\u001b[0m \u001b[0;34m[\u001b[0m\u001b[0mkeyarr\u001b[0m\u001b[0;34m,\u001b[0m \u001b[0mindexer\u001b[0m\u001b[0;34m]\u001b[0m\u001b[0;34m}\u001b[0m\u001b[0;34m,\u001b[0m \u001b[0mcopy\u001b[0m\u001b[0;34m=\u001b[0m\u001b[0;32mTrue\u001b[0m\u001b[0;34m,\u001b[0m \u001b[0mallow_dups\u001b[0m\u001b[0;34m=\u001b[0m\u001b[0;32mTrue\u001b[0m\u001b[0;34m\u001b[0m\u001b[0;34m\u001b[0m\u001b[0m\n",
      "\u001b[0;32m~/opt/anaconda3/lib/python3.7/site-packages/pandas/core/indexing.py\u001b[0m in \u001b[0;36m_get_listlike_indexer\u001b[0;34m(self, key, axis, raise_missing)\u001b[0m\n\u001b[1;32m   1550\u001b[0m \u001b[0;34m\u001b[0m\u001b[0m\n\u001b[1;32m   1551\u001b[0m         self._validate_read_indexer(\n\u001b[0;32m-> 1552\u001b[0;31m             \u001b[0mkeyarr\u001b[0m\u001b[0;34m,\u001b[0m \u001b[0mindexer\u001b[0m\u001b[0;34m,\u001b[0m \u001b[0mo\u001b[0m\u001b[0;34m.\u001b[0m\u001b[0m_get_axis_number\u001b[0m\u001b[0;34m(\u001b[0m\u001b[0maxis\u001b[0m\u001b[0;34m)\u001b[0m\u001b[0;34m,\u001b[0m \u001b[0mraise_missing\u001b[0m\u001b[0;34m=\u001b[0m\u001b[0mraise_missing\u001b[0m\u001b[0;34m\u001b[0m\u001b[0;34m\u001b[0m\u001b[0m\n\u001b[0m\u001b[1;32m   1553\u001b[0m         )\n\u001b[1;32m   1554\u001b[0m         \u001b[0;32mreturn\u001b[0m \u001b[0mkeyarr\u001b[0m\u001b[0;34m,\u001b[0m \u001b[0mindexer\u001b[0m\u001b[0;34m\u001b[0m\u001b[0;34m\u001b[0m\u001b[0m\n",
      "\u001b[0;32m~/opt/anaconda3/lib/python3.7/site-packages/pandas/core/indexing.py\u001b[0m in \u001b[0;36m_validate_read_indexer\u001b[0;34m(self, key, indexer, axis, raise_missing)\u001b[0m\n\u001b[1;32m   1652\u001b[0m             \u001b[0;32mif\u001b[0m \u001b[0;32mnot\u001b[0m \u001b[0;34m(\u001b[0m\u001b[0max\u001b[0m\u001b[0;34m.\u001b[0m\u001b[0mis_categorical\u001b[0m\u001b[0;34m(\u001b[0m\u001b[0;34m)\u001b[0m \u001b[0;32mor\u001b[0m \u001b[0max\u001b[0m\u001b[0;34m.\u001b[0m\u001b[0mis_interval\u001b[0m\u001b[0;34m(\u001b[0m\u001b[0;34m)\u001b[0m\u001b[0;34m)\u001b[0m\u001b[0;34m:\u001b[0m\u001b[0;34m\u001b[0m\u001b[0;34m\u001b[0m\u001b[0m\n\u001b[1;32m   1653\u001b[0m                 raise KeyError(\n\u001b[0;32m-> 1654\u001b[0;31m                     \u001b[0;34m\"Passing list-likes to .loc or [] with any missing labels \"\u001b[0m\u001b[0;34m\u001b[0m\u001b[0;34m\u001b[0m\u001b[0m\n\u001b[0m\u001b[1;32m   1655\u001b[0m                     \u001b[0;34m\"is no longer supported, see \"\u001b[0m\u001b[0;34m\u001b[0m\u001b[0;34m\u001b[0m\u001b[0m\n\u001b[1;32m   1656\u001b[0m                     \u001b[0;34m\"https://pandas.pydata.org/pandas-docs/stable/user_guide/indexing.html#deprecate-loc-reindex-listlike\"\u001b[0m  \u001b[0;31m# noqa:E501\u001b[0m\u001b[0;34m\u001b[0m\u001b[0;34m\u001b[0m\u001b[0m\n",
      "\u001b[0;31mKeyError\u001b[0m: 'Passing list-likes to .loc or [] with any missing labels is no longer supported, see https://pandas.pydata.org/pandas-docs/stable/user_guide/indexing.html#deprecate-loc-reindex-listlike'"
     ]
    }
   ],
   "source": [
    "#Group by SN to determine total spent\n",
    "p_df2 = data.groupby(\"SN\")\n",
    "top_df = pd.DataFrame(p_df2[\"Price\"].sum()).reset_index()\n",
    "\n",
    "#Create a demographic data frame and merge\n",
    "demo_df = top_df.loc[:, ['SN', \"Gender\", \"Age Group\"]]\n",
    "top_df = top_df.merge(demo_df, on=\"SN\")\n",
    "\n",
    "#Sort \n",
    "top_price_df = top_df.sort_values(by=\"Price\", ascending=False)\n",
    "top_price_df.head()"
   ]
  },
  {
   "cell_type": "markdown",
   "metadata": {},
   "source": [
    "# Most Popular Items"
   ]
  },
  {
   "cell_type": "markdown",
   "metadata": {},
   "source": [
    "# Most Profitable Items"
   ]
  }
 ],
 "metadata": {
  "kernelspec": {
   "display_name": "PythonData",
   "language": "python",
   "name": "pythondata"
  },
  "language_info": {
   "codemirror_mode": {
    "name": "ipython",
    "version": 3
   },
   "file_extension": ".py",
   "mimetype": "text/x-python",
   "name": "python",
   "nbconvert_exporter": "python",
   "pygments_lexer": "ipython3",
   "version": "3.7.6"
  }
 },
 "nbformat": 4,
 "nbformat_minor": 4
}
