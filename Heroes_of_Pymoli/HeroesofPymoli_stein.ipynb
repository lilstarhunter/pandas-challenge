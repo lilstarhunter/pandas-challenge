{
 "cells": [
  {
   "cell_type": "markdown",
   "metadata": {},
   "source": [
    "# Heroes of PyMoli\n",
    "\n",
    "## Summary of Analysis\n",
    "    1. The typical customer/player is a male, 21-30 years old. Total revenue from this demographic was 896.33 USD\n",
    "    \n",
    "    2. This demographic was the only cohort to purchase the most expensive game at 4.99 USD\n",
    "    \n",
    "    3. The most profitable game was \"Final Critic\" (Item ID: 92) \n",
    "       Purchased 13 times and with a total revenue of 59.99 USD\n",
    "       \n",
    "    4. Female players spent more money on average per purchase\n",
    "    \n",
    "<img src=\"files/fantasy.png\" style=\"width: 9000px\">"
   ]
  },
  {
   "cell_type": "code",
   "execution_count": null,
   "metadata": {
    "scrolled": true
   },
   "outputs": [],
   "source": [
    "#Import Dependencies\n",
    "import pandas as pd"
   ]
  },
  {
   "cell_type": "code",
   "execution_count": null,
   "metadata": {
    "scrolled": true
   },
   "outputs": [],
   "source": [
    "#Import file \n",
    "file = \"Resources/purchase_data.csv\""
   ]
  },
  {
   "cell_type": "code",
   "execution_count": null,
   "metadata": {
    "scrolled": true
   },
   "outputs": [],
   "source": [
    "data = pd.read_csv(file, encoding=\"ISO-8859-1\")"
   ]
  },
  {
   "cell_type": "markdown",
   "metadata": {},
   "source": [
    "# Game Analysis"
   ]
  },
  {
   "cell_type": "code",
   "execution_count": null,
   "metadata": {
    "scrolled": true
   },
   "outputs": [],
   "source": [
    "#Total number of games\n",
    "games = len(data[\"Item ID\"].unique())\n",
    "\n",
    "#Create a new data frame for determining game statistics\n",
    "games_df = data.groupby([\"Item ID\", \"Item Name\", \"Price\"], as_index = False).count()\n",
    "\n",
    "#Summary statistics for games\n",
    "g_avg = games_df[\"Price\"].mean()\n",
    "g_max = games_df[\"Price\"].max()\n",
    "g_min = games_df[\"Price\"].min()\n",
    "\n",
    "#Create Summary Table\n",
    "game_sum_table = pd.DataFrame({\"Number of Games\": games,\n",
    "                               \"Average Price\": [g_avg],\n",
    "                                \"Highest Price\": [g_max],\n",
    "                                 \"Lowest Price\": [g_min]})\n",
    "\n",
    "#Formatting of Summary Table\n",
    "game_sum_table[\"Average Price\"] = game_sum_table[\"Average Price\"].map(\"${:.2f}\".format)\n",
    "game_sum_table[\"Highest Price\"] = game_sum_table[\"Highest Price\"].map(\"${:.2f}\".format)\n",
    "game_sum_table[\"Lowest Price\"] = game_sum_table[\"Lowest Price\"].map(\"${:.2f}\".format)\n",
    "\n",
    "game_sum_table"
   ]
  },
  {
   "cell_type": "markdown",
   "metadata": {},
   "source": [
    "# Player Analysis\n"
   ]
  },
  {
   "cell_type": "code",
   "execution_count": null,
   "metadata": {
    "scrolled": true
   },
   "outputs": [],
   "source": [
    "players = len(data[\"SN\"].unique())\n",
    "print(\"Total number of players: \" + str(players))"
   ]
  },
  {
   "cell_type": "markdown",
   "metadata": {},
   "source": [
    "## Gender Demographics"
   ]
  },
  {
   "cell_type": "code",
   "execution_count": null,
   "metadata": {
    "scrolled": false
   },
   "outputs": [],
   "source": [
    "player_df = data.groupby([\"SN\", \"Gender\"], as_index = False).mean()\n",
    "\n",
    "#Create total number of players variable\n",
    "total = len(player_df[\"Gender\"])\n",
    "male = len(player_df.loc[player_df[\"Gender\"] == \"Male\"])\n",
    "female = len(player_df.loc[player_df[\"Gender\"] == \"Female\"])\n",
    "other = len(player_df.loc[player_df[\"Gender\"] == \"Other / Non-Disclosed\"])\n",
    "\n",
    "#Calculate Percentages\n",
    "male_per = male / total\n",
    "female_per = female / total\n",
    "other_per = other / total\n",
    "\n",
    "#Create DataFrame for Gender Statistics\n",
    "player_per_df = pd.DataFrame({\"Gender\": [\"Male\", \"Female\", \"Other / Non-Disclosed\"],\n",
    "                              \"Total\": [male, female, other],\n",
    "                              \"Percentage\": [male_per, female_per, other_per]})\n",
    "\n",
    "#Dataframe Formatting\n",
    "player_per_df[\"Percentage\"] = player_per_df[\"Percentage\"].map(\"{:,.2%}\".format)\n",
    "\n",
    "player_per_df"
   ]
  },
  {
   "cell_type": "markdown",
   "metadata": {},
   "source": [
    "## Purchasing Analysis (Gender)"
   ]
  },
  {
   "cell_type": "code",
   "execution_count": null,
   "metadata": {},
   "outputs": [],
   "source": [
    "#Create sex specific data frames\n",
    "male_df = player_df.loc[player_df[\"Gender\"] == \"Male\"]\n",
    "female_df = player_df.loc[player_df[\"Gender\"] == \"Female\"]\n",
    "other_df = player_df.loc[player_df[\"Gender\"] == \"Other / Non-Disclosed\"]"
   ]
  },
  {
   "cell_type": "code",
   "execution_count": null,
   "metadata": {
    "scrolled": true
   },
   "outputs": [],
   "source": [
    "#Create complete dfs specific to gender\n",
    "m_df = data.loc[data[\"Gender\"] == \"Male\"]\n",
    "f_df = data.loc[data[\"Gender\"] == \"Female\"]\n",
    "o_df = data.loc[data[\"Gender\"] == \"Other / Non-Disclosed\"]"
   ]
  },
  {
   "cell_type": "code",
   "execution_count": null,
   "metadata": {
    "scrolled": true
   },
   "outputs": [],
   "source": [
    "#Create male variable statistics of interest\n",
    "m_total = m_df[\"Purchase ID\"].count()\n",
    "m_sum = m_df[\"Price\"].sum()\n",
    "m_avg_no = male_df[\"Price\"].mean()\n",
    "m_avg = m_df[\"Price\"].mean()"
   ]
  },
  {
   "cell_type": "code",
   "execution_count": null,
   "metadata": {
    "scrolled": true
   },
   "outputs": [],
   "source": [
    "#Create female variable statistics of interest\n",
    "f_total = f_df[\"Purchase ID\"].count()\n",
    "f_sum = f_df[\"Price\"].sum()\n",
    "f_avg_no = female_df[\"Price\"].mean()\n",
    "f_avg = f_df[\"Price\"].mean()"
   ]
  },
  {
   "cell_type": "code",
   "execution_count": null,
   "metadata": {
    "scrolled": true
   },
   "outputs": [],
   "source": [
    "#Create other variable statistics of interest\n",
    "o_total = o_df[\"Purchase ID\"].count()\n",
    "o_sum = o_df[\"Price\"].sum()\n",
    "o_avg_no = other_df[\"Price\"].mean()\n",
    "o_avg = o_df[\"Price\"].mean()"
   ]
  },
  {
   "cell_type": "code",
   "execution_count": null,
   "metadata": {
    "scrolled": false
   },
   "outputs": [],
   "source": [
    "#Create Summary Table\n",
    "gender_sum_table = pd.DataFrame({\"Gender\": [\"Male\", \"Female\", \"Other / Non-Disclosed\"],\n",
    "                                \"Total Purchases\": [m_total, f_total, o_total],\n",
    "                                 \"Avg No. of Purchases\": [m_avg_no, f_avg_no, o_avg_no],\n",
    "                                \"Total Spent\": [m_sum, f_sum, o_sum],\n",
    "                               \"Average Spent\": [m_avg, f_avg, o_avg]})\n",
    "gender_sum_table[\"Total Spent\"] = gender_sum_table[\"Total Spent\"].map(\"${:.2f}\".format)\n",
    "gender_sum_table[\"Average Spent\"] = gender_sum_table[\"Average Spent\"].map(\"${:.2f}\".format)\n",
    "gender_sum_table[\"Avg No. of Purchases\"] = gender_sum_table[\"Avg No. of Purchases\"].map(\"{:.2f}\".format)\n",
    "gender_sum_table"
   ]
  },
  {
   "cell_type": "markdown",
   "metadata": {},
   "source": [
    "## Age Demographics"
   ]
  },
  {
   "cell_type": "code",
   "execution_count": null,
   "metadata": {
    "scrolled": true
   },
   "outputs": [],
   "source": [
    "bins = [0,11, 21, 31, 41, 51]\n",
    "labels = [\"0 to 10\", \"11 to 20\", \"21 to 30\", \"31 to 40\", \"40 +\"]"
   ]
  },
  {
   "cell_type": "code",
   "execution_count": null,
   "metadata": {
    "scrolled": false
   },
   "outputs": [],
   "source": [
    "#Place the data series into a new column inside the DataFrame\n",
    "data[\"Age Group\"] = pd.cut(data[\"Age\"], bins, labels=labels).astype('object')"
   ]
  },
  {
   "cell_type": "code",
   "execution_count": null,
   "metadata": {},
   "outputs": [],
   "source": [
    "age_df = data.groupby([\"SN\", \"Age Group\"], as_index = False).count()\n",
    "\n",
    "#Create total number of players variable\n",
    "total = len(age_df[\"Age Group\"])\n",
    "u10 = len(age_df.loc[age_df[\"Age Group\"] == \"0 to 10\"])\n",
    "u20 = len(age_df.loc[age_df[\"Age Group\"] == \"11 to 20\"])\n",
    "u30 = len(age_df.loc[age_df[\"Age Group\"] == \"21 to 30\"])\n",
    "u40 = len(age_df.loc[age_df[\"Age Group\"] == \"31 to 40\"])\n",
    "o40 = len(age_df.loc[age_df[\"Age Group\"] == \"40 +\"])\n",
    "\n",
    "#Calculate percent\n",
    "u10_p = u10 / total\n",
    "u20_p = u20 / total\n",
    "u30_p = u30 / total\n",
    "u40_p = u40 / total\n",
    "o40_p = o40 / total\n",
    "\n",
    "#Create DataFrame for Gender Statistics\n",
    "age_per_df = pd.DataFrame({\"Age Group\": labels,\n",
    "                              \"Total\": [u10, u20, u30, u40, o40],\n",
    "                              \"Percentage\": [u10_p, u20_p, u30_p, u40_p, o40_p]})\n",
    "\n",
    "#Dataframe Formatting\n",
    "age_per_df[\"Percentage\"] = age_per_df[\"Percentage\"].map(\"{:,.2%}\".format)\n",
    "age_per_df\n"
   ]
  },
  {
   "cell_type": "markdown",
   "metadata": {},
   "source": [
    "## Puchasing Analysis (Age)"
   ]
  },
  {
   "cell_type": "code",
   "execution_count": null,
   "metadata": {},
   "outputs": [],
   "source": [
    "#Group data into age groups\n",
    "age_df2 = data.groupby([\"Age Group\"])\n",
    "\n",
    "#Calculate summary statistics for age cohorts\n",
    "age_count = age_df2[\"Price\"].count()\n",
    "tot_spent = age_df2[\"Price\"].sum()\n",
    "avg_spent = age_df2[\"Price\"].mean()\n",
    "max_spent = age_df2[\"Price\"].max()\n",
    "min_spent = age_df2[\"Price\"].min()\n",
    "\n",
    "#Create DataFrame\n",
    "age_sum_df = pd.DataFrame({\"Total Spent\": tot_spent,\n",
    "                          \"Average Spent\": avg_spent,\n",
    "                          \"Max Spent\": max_spent,\n",
    "                          \"Min Spent\": min_spent})\n",
    "\n",
    "#Formatting\n",
    "age_sum_df[\"Total Spent\"] = age_sum_df[\"Total Spent\"].map(\"${:.2f}\".format)\n",
    "age_sum_df[\"Average Spent\"] = age_sum_df[\"Average Spent\"].map(\"${:.2f}\".format)\n",
    "age_sum_df[\"Max Spent\"] = age_sum_df[\"Max Spent\"].map(\"${:.2f}\".format)\n",
    "age_sum_df[\"Min Spent\"] = age_sum_df[\"Min Spent\"].map(\"${:.2f}\".format)\n",
    "age_sum_df"
   ]
  },
  {
   "cell_type": "markdown",
   "metadata": {},
   "source": [
    "# Top Spenders "
   ]
  },
  {
   "cell_type": "code",
   "execution_count": null,
   "metadata": {},
   "outputs": [],
   "source": [
    "#Create an age and gender data frame\n",
    "top_df = ((data.groupby([\"Age Group\", \"Gender\"], as_index=False)\n",
    "         .sum()\n",
    "         .sort_values(by=\"Price\",ascending=False))[[\"Age Group\", \"Gender\",\"Price\"]])\n",
    "\n",
    "#Formatting\n",
    "top_df.rename(columns = {\"Price\": \"Total Spent\"}, inplace=True)\n",
    "top_df[\"Total Spent\"] = top_df[\"Total Spent\"].map(\"${:.2f}\".format)\n",
    "\n",
    "#Print dataframe\n",
    "top_df"
   ]
  },
  {
   "cell_type": "code",
   "execution_count": null,
   "metadata": {
    "scrolled": false
   },
   "outputs": [],
   "source": [
    "#Find the most loyal customer\n",
    "top_player = ((data.groupby([\"SN\", \"Gender\", \"Age\"], as_index=False)\n",
    "              .sum()\n",
    "              .drop_duplicates()\n",
    "              .sort_values(by=\"Price\", ascending=False)))\n",
    "\n",
    "print(\"Top Individual Spender: \" + top_player.iloc[0,0])\n",
    "print(\"Demographics: \" + str(top_player.iloc[0,1]) + \", \" + str(top_player.iloc[0,2]) + \" years old.\")\n",
    "print(\"Total Spent: $\" + str(top_player.iloc[0,5]))\n"
   ]
  },
  {
   "cell_type": "markdown",
   "metadata": {},
   "source": [
    "# Most Popular Items"
   ]
  },
  {
   "cell_type": "code",
   "execution_count": null,
   "metadata": {
    "scrolled": true
   },
   "outputs": [],
   "source": [
    "#Purchase counts per game\n",
    "game_count = data.groupby([\"Item ID\", \"Item Name\"]).count().reset_index()\n",
    "game_sum = data.groupby([\"Item ID\", \"Item Name\"]).sum()\n",
    "\n",
    "#Merge data frames \n",
    "g_df = pd.merge(game_count, game_sum, on=\"Item Name\")[[\"Item ID\", \"Item Name\", \"Purchase ID_x\", \"Price_y\"]]\n",
    "g_df[\"Game Price\"] = g_df[\"Price_y\"]/g_df[\"Purchase ID_x\"]\n",
    "g_df = (g_df.sort_values(by=\"Price_y\",ascending=False)\n",
    "        .reset_index()[[\"Item ID\", \"Item Name\", \"Game Price\", \"Purchase ID_x\", \"Price_y\"]])\n",
    "\n",
    "\n",
    "#Formatting\n",
    "g_df.rename(columns = {\"Purchase ID_x\": \"Number of Purchases\", \"Price_y\": \"Total Revenue\"}, inplace=True)\n",
    "g_df[\"Total Revenue\"] = g_df[\"Total Revenue\"].map(\"${:.2f}\".format)\n",
    "g_df[\"Game Price\"] = g_df[\"Game Price\"].map(\"${:.2f}\".format)\n",
    "\n",
    "g_df.head()"
   ]
  },
  {
   "cell_type": "markdown",
   "metadata": {},
   "source": [
    "# Most Profitable Items"
   ]
  },
  {
   "cell_type": "code",
   "execution_count": null,
   "metadata": {
    "scrolled": true
   },
   "outputs": [],
   "source": [
    "print(\"Most Profitable Game: \" + g_df.iloc[0,1] + \" (Item ID: \" + str(g_df.iloc[0,0]) + \")\")\n",
    "print(\"Number of Purchases: \" + str(g_df.iloc[0,3]))\n",
    "print(\"Total Revenue: \" + str(g_df.iloc[0,4]))"
   ]
  }
 ],
 "metadata": {
  "kernelspec": {
   "display_name": "PythonData",
   "language": "python",
   "name": "pythondata"
  },
  "language_info": {
   "codemirror_mode": {
    "name": "ipython",
    "version": 3
   },
   "file_extension": ".py",
   "mimetype": "text/x-python",
   "name": "python",
   "nbconvert_exporter": "python",
   "pygments_lexer": "ipython3",
   "version": "3.7.6"
  }
 },
 "nbformat": 4,
 "nbformat_minor": 4
}
